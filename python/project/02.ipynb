{
 "cells": [
  {
   "cell_type": "code",
   "execution_count": 77,
   "metadata": {},
   "outputs": [],
   "source": [
    "import requests\n",
    "import csv\n",
    "from decouple import config\n",
    "key = config('KEY')\n",
    "movie_list = []\n",
    "with open('boxoffice.csv', 'r', encoding='utf-8') as f:\n",
    "    reader = csv.DictReader(f)\n",
    "    for row in reader:\n",
    "        movie_list.append(row['영화 대표코드'])"
   ]
  },
  {
   "cell_type": "code",
   "execution_count": 92,
   "metadata": {
    "scrolled": true
   },
   "outputs": [],
   "source": [
    "movies = {}\n",
    "for code in movie_list:\n",
    "    api_url = f'http://www.kobis.or.kr/kobisopenapi/webservice/rest/movie/searchMovieInfo.json?key={key}&movieCd={code}'\n",
    "    response = requests.get(api_url).json()\n",
    "    movies[code] = {}\n",
    "    movie = movies[code]\n",
    "    movie_info = response['movieInfoResult']['movieInfo']\n",
    "    movie_info_list = {'movieCd': '영화 대표코드', 'movieNm': '영화명(국문)', 'movieNmEn': '영화명(영문)','movieNmOg': '영화명(원문)','watchGradeNm': '관람등급','openDt': '개봉연도','showTm': '상영시간', 'genres': '장르','directors': '감독명'}\n",
    "    for info, info_ko in movie_info_list.items():\n",
    "        if info == 'watchGradeNm':\n",
    "            if movie_info['audits'] != []:\n",
    "                movie[info_ko] = movie_info['audits'][0][info]\n",
    "            else:\n",
    "                movie[info_ko] = ''\n",
    "        elif info == 'genres':\n",
    "            genrenm = []\n",
    "            for genre in range(len(movie_info[info])):\n",
    "                genrenm.append(movie_info[info][genre]['genreNm'])\n",
    "            movie[info_ko] = ', '.join(genrenm)\n",
    "        elif info == 'directors':\n",
    "            directors = []\n",
    "            for director in range(len(movie_info[info])):\n",
    "                directors.append(movie_info[info][director]['peopleNm'])\n",
    "            movie[info_ko] = ', '.join(directors)\n",
    "        else:      \n",
    "            movie[info_ko] = movie_info[info]"
   ]
  },
  {
   "cell_type": "code",
   "execution_count": 93,
   "metadata": {},
   "outputs": [],
   "source": [
    "with open ('movie.csv', 'w', encoding='utf-8') as f:\n",
    "    fieldnames = ['영화 대표코드','영화명(국문)', '영화명(영문)', '영화명(원문)', '관람등급', '개봉연도', '상영시간', '장르', '감독명']\n",
    "    csv_writer = csv.DictWriter(f, fieldnames=fieldnames)\n",
    "    csv_writer.writeheader()\n",
    "    for item in movies.values(): # 딕셔너리 만든 것 반복\n",
    "        csv_writer.writerow(item)"
   ]
  }
 ],
 "metadata": {
  "kernelspec": {
   "display_name": "Python 3",
   "language": "python",
   "name": "python3"
  },
  "language_info": {
   "codemirror_mode": {
    "name": "ipython",
    "version": 3
   },
   "file_extension": ".py",
   "mimetype": "text/x-python",
   "name": "python",
   "nbconvert_exporter": "python",
   "pygments_lexer": "ipython3",
   "version": "3.7.3"
  },
  "toc": {
   "base_numbering": 1,
   "nav_menu": {},
   "number_sections": true,
   "sideBar": true,
   "skip_h1_title": false,
   "title_cell": "Table of Contents",
   "title_sidebar": "Contents",
   "toc_cell": false,
   "toc_position": {},
   "toc_section_display": true,
   "toc_window_display": false
  }
 },
 "nbformat": 4,
 "nbformat_minor": 2
}
