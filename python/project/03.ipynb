{
 "cells": [
  {
   "cell_type": "code",
   "execution_count": 39,
   "metadata": {},
   "outputs": [
    {
     "name": "stdout",
     "output_type": "stream",
     "text": [
      "봉준호\n"
     ]
    }
   ],
   "source": [
    "import requests\n",
    "import csv\n",
    "from decouple import config\n",
    "key = config('KEY')\n",
    "director_list = []\n",
    "with open('movie.csv', 'r', encoding='utf-8') as f:\n",
    "    reader = csv.DictReader(f)\n",
    "    for row in reader:\n",
    "        director_list.append(row['감독명'])"
   ]
  },
  {
   "cell_type": "code",
   "execution_count": 53,
   "metadata": {},
   "outputs": [],
   "source": [
    "directors = {}\n",
    "for peoplenm in director_list:\n",
    "    api_url = f'http://www.kobis.or.kr/kobisopenapi/webservice/rest/people/searchPeopleList.json?key={key}&peopleNm={peoplenm}'\n",
    "    response = requests.get(api_url).json()\n",
    "    director_info = response['peopleListResult']['peopleList']\n",
    "    director_info_list = {'peopleCd': '영화인 코드', 'peopleNm': '영화인명', 'repRoleNm': '분야','filmoNames': '필모리스트'}\n",
    "    for num in range(len(director_info)):\n",
    "        if response['peopleListResult']['totCnt'] != 0 and director_info[num]['repRoleNm'] == '감독':\n",
    "            directors[peoplenm] = {}\n",
    "            director = directors[peoplenm]\n",
    "            for info, info_ko in director_info_list.items():\n",
    "                director[info_ko] = director_info[num][info].replace('|', ', ')            "
   ]
  },
  {
   "cell_type": "code",
   "execution_count": 54,
   "metadata": {},
   "outputs": [],
   "source": [
    "with open ('director.csv', 'w', encoding='utf-8') as f:\n",
    "    fieldnames = ['영화인 코드','영화인명', '분야', '필모리스트']\n",
    "    csv_writer = csv.DictWriter(f, fieldnames=fieldnames)\n",
    "    csv_writer.writeheader()\n",
    "    for item in directors.values(): # 딕셔너리 만든 것 반복\n",
    "        csv_writer.writerow(item)"
   ]
  }
 ],
 "metadata": {
  "kernelspec": {
   "display_name": "Python 3",
   "language": "python",
   "name": "python3"
  },
  "language_info": {
   "codemirror_mode": {
    "name": "ipython",
    "version": 3
   },
   "file_extension": ".py",
   "mimetype": "text/x-python",
   "name": "python",
   "nbconvert_exporter": "python",
   "pygments_lexer": "ipython3",
   "version": "3.7.3"
  },
  "toc": {
   "base_numbering": 1,
   "nav_menu": {},
   "number_sections": true,
   "sideBar": true,
   "skip_h1_title": false,
   "title_cell": "Table of Contents",
   "title_sidebar": "Contents",
   "toc_cell": false,
   "toc_position": {},
   "toc_section_display": true,
   "toc_window_display": false
  }
 },
 "nbformat": 4,
 "nbformat_minor": 2
}
