{
 "cells": [
  {
   "cell_type": "code",
   "execution_count": 1,
   "metadata": {
    "scrolled": true
   },
   "outputs": [],
   "source": [
    "import requests\n",
    "import csv\n",
    "from decouple import config\n",
    "from datetime import datetime, timedelta\n",
    "key = config('KEY')"
   ]
  },
  {
   "cell_type": "markdown",
   "metadata": {},
   "source": [
    "targetDt.strftime('%Y%m%d')를 사용하면 문자열로 변환시켜준다."
   ]
  },
  {
   "cell_type": "code",
   "execution_count": 2,
   "metadata": {},
   "outputs": [],
   "source": [
    "movies = {}\n",
    "time = datetime(2019,7,13)\n",
    "for _ in range(50):\n",
    "    targetDt = ''.join(str(time)[:10].split('-'))\n",
    "    time = time + timedelta(weeks=-1)\n",
    "    api_url = f'http://www.kobis.or.kr/kobisopenapi/webservice/rest/boxoffice/searchWeeklyBoxOfficeList.json?key={key}&targetDt={targetDt}&weekGb=0'\n",
    "    response = requests.get(api_url).json()\n",
    "    for i in range(10):\n",
    "        rankoldandnew = response['boxOfficeResult']['weeklyBoxOfficeList'][i]['rankOldAndNew']\n",
    "        moviecd = response['boxOfficeResult']['weeklyBoxOfficeList'][i]['movieCd']\n",
    "        movienm = response['boxOfficeResult']['weeklyBoxOfficeList'][i]['movieNm']\n",
    "        audiacc = response['boxOfficeResult']['weeklyBoxOfficeList'][i]['audiAcc']\n",
    "        if movienm not in movies:\n",
    "            movies[movienm] = {'영화 대표코드': moviecd, '영화명': movienm, '해당일 누적관객수': audiacc}"
   ]
  },
  {
   "cell_type": "code",
   "execution_count": 3,
   "metadata": {},
   "outputs": [
    {
     "name": "stdout",
     "output_type": "stream",
     "text": [
      "{'스파이더맨: 파 프롬 홈': {'영화 대표코드': '20196309', '영화명': '스파이더맨: 파 프롬 홈', '해당일 누적관객수': '6685143'}, '알라딘': {'영화 대표코드': '20183867', '영화명': '알라딘', '해당일 누적관객수': '10161238'}, '토이 스토리 4': {'영화 대표코드': '20184047', '영화명': '토이 스토리 4', '해당일 누적관객수': '3151062'}, '기방도령': {'영화 대표코드': '20185353', '영화명': '기방도령', '해당일 누적관객수': '220182'}, '기생충': {'영화 대표코드': '20183782', '영화명': '기생충', '해당일 누적관객수': '9919835'}, '진범': {'영화 대표코드': '20185986', '영화명': '진범', '해당일 누적관객수': '106756'}, '극장판 엉덩이 탐정: 화려한 사건 수첩': {'영화 대표코드': '20191601', '영화명': '극장판 엉덩이 탐정: 화려한 사건 수첩', '해당일 누적관객수': '101245'}, '애나벨 집으로': {'영화 대표코드': '20199951', '영화명': '애나벨 집으로', '해당일 누적관객수': '459037'}, '존 윅 3: 파라벨룸': {'영화 대표코드': '20196655', '영화명': '존 윅 3: 파라벨룸', '해당일 누적관객수': '913066'}, '미드소마': {'영화 대표코드': '20192151', '영화명': '미드소마', '해당일 누적관객수': '45707'}, '롱 리브 더 킹: 목포 영웅': {'영화 대표코드': '20198453', '영화명': '롱 리브 더 킹: 목포 영웅', '해당일 누적관객수': '1076588'}, '천로역정: 천국을 찾아서': {'영화 대표코드': '20190273', '영화명': '천로역정: 천국을 찾아서', '해당일 누적관객수': '228365'}, '비스트': {'영화 대표코드': '20182585', '영화명': '비스트', '해당일 누적관객수': '199009'}, 'BIFAN2019 판타스틱 단편 걸작선 1': {'영화 대표코드': '20192591', '영화명': 'BIFAN2019 판타스틱 단편 걸작선 1', '해당일 누적관객수': '25000'}}\n"
     ]
    }
   ],
   "source": [
    "print(movies)"
   ]
  },
  {
   "cell_type": "code",
   "execution_count": 113,
   "metadata": {
    "scrolled": true
   },
   "outputs": [],
   "source": [
    "with open ('boxoffice.csv', 'w', encoding='utf-8') as f:\n",
    "    fieldnames = ['영화 대표코드', '영화명', '해당일 누적관객수'] # 여기만 변경\n",
    "    csv_writer = csv.DictWriter(f, fieldnames=fieldnames)\n",
    "    csv_writer.writeheader()\n",
    "    for item in movies.values(): # 딕셔너리 만든 것 반복\n",
    "        csv_writer.writerow(item)"
   ]
  }
 ],
 "metadata": {
  "kernelspec": {
   "display_name": "Python 3",
   "language": "python",
   "name": "python3"
  },
  "language_info": {
   "codemirror_mode": {
    "name": "ipython",
    "version": 3
   },
   "file_extension": ".py",
   "mimetype": "text/x-python",
   "name": "python",
   "nbconvert_exporter": "python",
   "pygments_lexer": "ipython3",
   "version": "3.7.3"
  },
  "toc": {
   "base_numbering": 1,
   "nav_menu": {},
   "number_sections": true,
   "sideBar": true,
   "skip_h1_title": false,
   "title_cell": "Table of Contents",
   "title_sidebar": "Contents",
   "toc_cell": false,
   "toc_position": {},
   "toc_section_display": true,
   "toc_window_display": false
  }
 },
 "nbformat": 4,
 "nbformat_minor": 2
}
