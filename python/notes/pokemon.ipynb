{
 "cells": [
  {
   "cell_type": "code",
   "execution_count": 1,
   "metadata": {},
   "outputs": [],
   "source": [
    "import random\n",
    "\n",
    "class Pikachu:\n",
    "    def __init__(self, name):\n",
    "        self.name = name\n",
    "        self.level = 5\n",
    "        self.hp = self.level * random.randint(15, 20)\n",
    "        self.exp = 0\n",
    "    def bark(self):\n",
    "        print('pikachu')\n",
    "    def body_attack(self, person):\n",
    "        if person.hp > 0:\n",
    "            person.hp = person.hp - (self.level * 5)\n",
    "            return person.hp \n",
    "        else:\n",
    "            self.exp = self.exp + person.level * 15\n",
    "            return '상대의 체력이 0이 되었습니다.'\n",
    "    def thousond_volt(self, person):\n",
    "        if person.hp > 0:\n",
    "            person.hp = person.hp - (self.level * 7)\n",
    "            return person.hp \n",
    "        else:\n",
    "            self.exp = self.exp + person.level * 15\n",
    "            return '상대의 체력이 0이 되었습니다.'\n",
    "    def __del__(self):\n",
    "        if self.exp >= 100:\n",
    "            self.level = self.level + exp//100\n",
    "            self.exp = exp % 100"
   ]
  }
 ],
 "metadata": {
  "kernelspec": {
   "display_name": "Python 3",
   "language": "python",
   "name": "python3"
  },
  "language_info": {
   "codemirror_mode": {
    "name": "ipython",
    "version": 3
   },
   "file_extension": ".py",
   "mimetype": "text/x-python",
   "name": "python",
   "nbconvert_exporter": "python",
   "pygments_lexer": "ipython3",
   "version": "3.7.3"
  },
  "toc": {
   "base_numbering": 1,
   "nav_menu": {},
   "number_sections": true,
   "sideBar": true,
   "skip_h1_title": false,
   "title_cell": "Table of Contents",
   "title_sidebar": "Contents",
   "toc_cell": false,
   "toc_position": {},
   "toc_section_display": true,
   "toc_window_display": false
  }
 },
 "nbformat": 4,
 "nbformat_minor": 2
}
