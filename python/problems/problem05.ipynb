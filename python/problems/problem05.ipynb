{
 "cells": [
  {
   "cell_type": "markdown",
   "metadata": {},
   "source": [
    "# 불쌍한 달팽이\n",
    "\n",
    ">달팽이는 낮 시간 동안에 기둥을 올라갑니다. 하지만 밤에는 잠을 자면서 어느 정도의 거리만큼미끄러집니다. (낮 시간 동안 올라간 거리보다는 적게 미끄러집니다) 달팽이가 기둥의 꼭대기에 도달하는 날까지 걸리는 시간을 계산하면 됩니다.\n",
    "\n",
    "> 함수에 들어가야 하는 3개의 인자는 다음과 같습니다.\n",
    "- 기둥의 높이(미터)\n",
    "- 낮 시간 동안 달팽이가 올라가는 거리(미터)\n",
    "- 달팽이가 야간에 잠을 자는 동안 미끄러지는 거리(미터)\n",
    "\n",
    "```python\n",
    "snail(100, 5, 2)\n",
    "# => 33\n",
    "```"
   ]
  },
  {
   "cell_type": "code",
   "execution_count": 13,
   "metadata": {},
   "outputs": [],
   "source": [
    "# 여기에 코드를 작성하세요\n",
    "def snail(meter, go, sleep):\n",
    "    a = 0\n",
    "    day = 1\n",
    "    while True:\n",
    "        a += go\n",
    "        if a > meter:\n",
    "            return day\n",
    "        a -= sleep\n",
    "        day += 1\n"
   ]
  },
  {
   "cell_type": "code",
   "execution_count": 14,
   "metadata": {},
   "outputs": [
    {
     "name": "stdout",
     "output_type": "stream",
     "text": [
      "33\n"
     ]
    }
   ],
   "source": [
    "# 해당 코드를 통해 올바른 결과가 나오는지 확인하세요.\n",
    "print(snail(100, 5, 2))"
   ]
  },
  {
   "cell_type": "markdown",
   "metadata": {},
   "source": [
    "# 편-안한 단어\n",
    "\n",
    "> (QWERTY 키보드를 사용하여 타이핑을 한다고 가정할 때) '편안한 단어'는 타이핑 할 때 **손을 번갈아 칠 수 있는 단어**를 말합니다.\n",
    ">\n",
    "> 단어를 인자로 받아 그것이 '편안한 단어'인지 여부를 True/False로 반환하는 함수를 만드세요.(모든 단어는 a ~ z까지 오름차순으로 구성된 문자열입니다.)\n",
    "\n",
    "> 문자 목록\n",
    "- 왼손: q, w, e, r, t, a, s, d, f, g, z, x, c, v, b\n",
    "- 오른손: y, u, i, o, p, h, j, k, l, n, m"
   ]
  },
  {
   "cell_type": "code",
   "execution_count": 60,
   "metadata": {},
   "outputs": [],
   "source": [
    "# 여기에 코드를 작성하세요.\n",
    "def comfortable_word(word):\n",
    "    left = ['q', 'w', 'e', 'r', 't', 'a', 's', 'd', 'f', 'g', 'z', 'x', 'c', 'v', 'b']\n",
    "    right = ['y', 'u', 'i', 'o', 'p', 'h', 'j', 'k', 'l', 'n', 'm']\n",
    "    word_num = [1 if i in left else 0 for i in word]\n",
    "    for i in range(len(word)-1):\n",
    "        if word_num[i] == word_num[i+1]:\n",
    "            return False\n",
    "    return True\n",
    "            "
   ]
  },
  {
   "cell_type": "code",
   "execution_count": 61,
   "metadata": {},
   "outputs": [
    {
     "name": "stdout",
     "output_type": "stream",
     "text": [
      "True\n",
      "False\n"
     ]
    }
   ],
   "source": [
    "# 해당 코드를 통해 올바른 결과가 나오는지 확인하세요.\n",
    "print(comfortable_word('qywu'))\n",
    "print(comfortable_word('apple'))"
   ]
  },
  {
   "cell_type": "markdown",
   "metadata": {},
   "source": [
    "# 숫자패턴\n",
    "\n",
    ">원하는 행까지 아래의 패턴을 생성하는 함수를 작성하세요. 만약 인자가 0이나 음의 정수인 경우 빈 문자열('')로 반환하세요.\n",
    "> \n",
    "> 짝수가 인수로 전달되면 패턴은 통과된 짝수보다 작은 최대 홀수까지 계속되어야 합니다.\n",
    "\n",
    "```python\n",
    "# 예시 \n",
    "print(pattern(9))\n",
    "\n",
    "1\n",
    "333\n",
    "55555\n",
    "7777777\n",
    "999999999\n",
    "\n",
    "print(pattern(6))\n",
    "1\n",
    "333\n",
    "55555\n",
    "```\n",
    "**유의!**\n",
    "패턴에 공백은 없습니다."
   ]
  },
  {
   "cell_type": "code",
   "execution_count": 38,
   "metadata": {},
   "outputs": [],
   "source": [
    "# 여기에 코드를 작성하세요\n",
    "def pattern(n):\n",
    "    line = ''\n",
    "    if n <= 0:\n",
    "        return line\n",
    "    for i in range((n+1)//2+1):\n",
    "        line += f'{(i*2-1)}'*(i*2-1) + '\\n'\n",
    "    return line\n"
   ]
  },
  {
   "cell_type": "code",
   "execution_count": 42,
   "metadata": {},
   "outputs": [
    {
     "name": "stdout",
     "output_type": "stream",
     "text": [
      "\n",
      "1\n",
      "333\n",
      "55555\n",
      "7777777\n",
      "999999999\n",
      "\n",
      "\n",
      "1\n",
      "333\n",
      "55555\n",
      "\n"
     ]
    }
   ],
   "source": [
    "# 해당 코드를 통해 올바른 결과가 나오는지 확인하세요.\n",
    "print(pattern(9))\n",
    "print(pattern(6))"
   ]
  }
 ],
 "metadata": {
  "kernelspec": {
   "display_name": "Python 3",
   "language": "python",
   "name": "python3"
  },
  "language_info": {
   "codemirror_mode": {
    "name": "ipython",
    "version": 3
   },
   "file_extension": ".py",
   "mimetype": "text/x-python",
   "name": "python",
   "nbconvert_exporter": "python",
   "pygments_lexer": "ipython3",
   "version": "3.7.3"
  },
  "toc": {
   "base_numbering": 1,
   "nav_menu": {},
   "number_sections": true,
   "sideBar": true,
   "skip_h1_title": false,
   "title_cell": "Table of Contents",
   "title_sidebar": "Contents",
   "toc_cell": false,
   "toc_position": {},
   "toc_section_display": true,
   "toc_window_display": false
  }
 },
 "nbformat": 4,
 "nbformat_minor": 2
}
