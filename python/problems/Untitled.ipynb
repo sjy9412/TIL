{
 "cells": [
  {
   "cell_type": "code",
   "execution_count": 6,
   "metadata": {},
   "outputs": [
    {
     "name": "stdout",
     "output_type": "stream",
     "text": [
      "*****\n",
      "*****\n",
      "*****\n",
      "*****\n",
      "*****\n",
      "*****\n",
      "*****\n",
      "*****\n",
      "*****\n",
      "\n"
     ]
    }
   ],
   "source": [
    "n=5\n",
    "m=9\n",
    "line = '*'*n\n",
    "print(f'{line}\\n'*m)"
   ]
  },
  {
   "cell_type": "code",
   "execution_count": 8,
   "metadata": {},
   "outputs": [
    {
     "name": "stdout",
     "output_type": "stream",
     "text": [
      "\"파일은 C:\\Windows\\Users\\내문서\\Python에 저장이 되어있습니다.\"\n",
      "나는 생각했다. 'cd를 써서 git bash로 들어가봐야지'\n",
      "\n"
     ]
    }
   ],
   "source": [
    "print('''\\\"파일은 C:\\\\Windows\\\\Users\\\\내문서\\\\Python에 저장이 되어있습니다.\\\"\n",
    "나는 생각했다. \\'cd를 써서 git bash로 들어가봐야지\\'\n",
    "''')"
   ]
  },
  {
   "cell_type": "code",
   "execution_count": 27,
   "metadata": {},
   "outputs": [],
   "source": [
    "list_num = []\n",
    "for i in range(1,22):\n",
    "    if 21%i == 0:\n",
    "        list_num.append(i)\n",
    "        list_num.append(-i)\n",
    "for a in list_num:\n",
    "    for b in list_num:\n",
    "        if a*b==-21 and (a+b)==4:\n",
    "            print(-a,-b)\n",
    "            "
   ]
  }
 ],
 "metadata": {
  "kernelspec": {
   "display_name": "Python 3",
   "language": "python",
   "name": "python3"
  },
  "language_info": {
   "codemirror_mode": {
    "name": "ipython",
    "version": 3
   },
   "file_extension": ".py",
   "mimetype": "text/x-python",
   "name": "python",
   "nbconvert_exporter": "python",
   "pygments_lexer": "ipython3",
   "version": "3.7.3"
  }
 },
 "nbformat": 4,
 "nbformat_minor": 2
}
